{
 "cells": [
  {
   "cell_type": "code",
   "execution_count": null,
   "metadata": {
    "collapsed": true
   },
   "outputs": [],
   "source": [
    "# Simple ChatBot1"
   ]
  },
  {
   "cell_type": "code",
   "execution_count": 5,
   "metadata": {},
   "outputs": [
    {
     "name": "stdout",
     "output_type": "stream",
     "text": [
      ">>> hello\n",
      "Hi\n",
      ">>> how are you\n",
      "Awesome\n",
      ">>> bye\n",
      "See You\n"
     ]
    }
   ],
   "source": [
    "import random\n",
    "\n",
    "greetings = ['hello', 'hi', 'Hi', 'hey!']\n",
    "random_greeting = random.choice(greetings)\n",
    "\n",
    "question = ['How are you?','How are you doing?', 'how are you','hru']\n",
    "responses = ['Okay',\"I'm fine\",\"Awesome\",\"Good\",\"Disappointed\",\"Lovely\",\"Sad\",\"Not Bad\"]\n",
    "random_response = random.choice(responses)\n",
    "\n",
    "endconversation = ['Have a Good Day','Bye','bye','Bye!','Bye!!','See You']\n",
    "endresponse = ['Wish you the same''Have a Good Day','Bye!!','See You']\n",
    "random_endresponse = random.choice(endresponse)\n",
    "\n",
    "while True:\n",
    "    userInput = input(\">>> \")\n",
    "    if userInput in greetings:\n",
    "        print(random_greeting)\n",
    "    elif userInput in question:\n",
    "        print(random_response)\n",
    "    elif userInput in endconversation:\n",
    "        print(random_endresponse)\n",
    "        break\n",
    "    else:\n",
    "        print(\"Ok Fine Thank You!I did not understand what you said\")\n",
    "        break"
   ]
  },
  {
   "cell_type": "code",
   "execution_count": null,
   "metadata": {
    "collapsed": true
   },
   "outputs": [],
   "source": []
  },
  {
   "cell_type": "code",
   "execution_count": null,
   "metadata": {
    "collapsed": true
   },
   "outputs": [],
   "source": []
  }
 ],
 "metadata": {
  "kernelspec": {
   "display_name": "Python 3",
   "language": "python",
   "name": "python3"
  },
  "language_info": {
   "codemirror_mode": {
    "name": "ipython",
    "version": 3
   },
   "file_extension": ".py",
   "mimetype": "text/x-python",
   "name": "python",
   "nbconvert_exporter": "python",
   "pygments_lexer": "ipython3",
   "version": "3.6.3"
  }
 },
 "nbformat": 4,
 "nbformat_minor": 2
}
